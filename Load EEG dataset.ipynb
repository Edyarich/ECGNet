{
 "cells": [
  {
   "cell_type": "code",
   "execution_count": 1,
   "metadata": {
    "ExecuteTime": {
     "start_time": "2023-05-19T15:51:21.979880Z",
     "end_time": "2023-05-19T15:51:23.054873Z"
    }
   },
   "outputs": [],
   "source": [
    "%matplotlib inline\n",
    "import os, mne, glob, natsort, pdb\n",
    "import numpy as np\n",
    "import xarray as xr\n",
    "import pandas as pd\n",
    "mne.set_log_level('error')\n",
    "import matplotlib.pyplot as plt\n",
    "\n",
    "import warnings\n",
    "warnings.simplefilter(action='ignore', category=DeprecationWarning)"
   ]
  },
  {
   "cell_type": "code",
   "execution_count": 2,
   "metadata": {
    "ExecuteTime": {
     "start_time": "2023-05-19T15:54:33.289004Z",
     "end_time": "2023-05-19T15:54:33.335879Z"
    }
   },
   "outputs": [],
   "source": [
    "def mne_apply(func, raw, verbose=\"WARNING\"):\n",
    "    \"\"\"\n",
    "    Apply function to data of `mne.io.RawArray`.\n",
    "    From braindecode toolbox: https://github.com/robintibor/braindecode/blob/master/braindecode/mne_ext/signalproc.py#L75-L93\n",
    "    \n",
    "    Parameters\n",
    "    ----------\n",
    "    func: function\n",
    "        Should accept 2d-array (channels x time) and return modified 2d-array\n",
    "    raw: `mne.io.RawArray`\n",
    "    verbose: bool\n",
    "        Whether to log creation of new `mne.io.RawArray`.\n",
    "    Returns\n",
    "    -------\n",
    "    transformed_set: Copy of `raw` with data transformed by given function.\n",
    "    \"\"\"\n",
    "    new_data = func(raw.get_data())\n",
    "    return mne.io.RawArray(new_data, raw.info, verbose=verbose)"
   ]
  },
  {
   "cell_type": "code",
   "execution_count": 3,
   "metadata": {
    "ExecuteTime": {
     "start_time": "2023-05-19T15:54:35.199244Z",
     "end_time": "2023-05-19T15:54:35.201922Z"
    }
   },
   "outputs": [],
   "source": [
    "lp = '.../'\n",
    "sp = '.../'\n",
    "tlims = [-2,2] # seconds\n",
    "tlims_handpos = [0,4] # seconds\n",
    "filt_freqs = [1,None] # Hz (low, high cutoffs)\n",
    "n_splits = 4 # number of splits per subject\n",
    "sbj_id = 'S15'\n",
    "n_chans = 61 # number of EEG channels\n",
    "event_dict = {'move':0x600,'rest':0x606}\n",
    "# event labels: elbow flexion (0x600), elbow extension (0x601), supination (0x602),\n",
    "#               pronation (0x603), hand close (0x604), hand open (0x605),\n",
    "#               rest (0x606)\n",
    "sfreq_new = 250 # Hz"
   ]
  },
  {
   "cell_type": "code",
   "execution_count": 4,
   "metadata": {
    "ExecuteTime": {
     "start_time": "2023-05-19T15:54:39.147008Z",
     "end_time": "2023-05-19T15:54:39.148844Z"
    }
   },
   "outputs": [],
   "source": [
    "# Create txt file with electrode MNI positions (mirrored to left hemisphere)\n",
    "create_chan_pos_file = False\n",
    "\n",
    "if create_chan_pos_file:\n",
    "    chan_pos = pd.read_csv(lp+'roi_proj/eeg_elec_mni_pos.csv',index_col=0)\n",
    "    ch_names = ['F3','F1','Fz','F2','F4',\n",
    "                'FFC5h','FFC3h','FFC1h','FFC2h','FFC4h','FFC6h',\n",
    "                'FC5','FC3','FC1','FCz','FC2','FC4','FC6','FTT7h',\n",
    "                'FCC5h','FCC3h','FCC1h','FCC2h','FCC4h','FCC6h','FTT8h',\n",
    "                'C5','C3','C1','Cz','C2','C4','C6','TTP7h',\n",
    "                'CCP5h','CCP3h','CCP1h','CCP2h','CCP4h','CCP6h','TTP8h',\n",
    "                'CP5','CP3','CP1','CPz','CP2','CP4','CP6',\n",
    "                'CPP5h','CPP3h','CPP1h','CPP2h','CPP4h','CPP6h',\n",
    "                'P3','P1','Pz','P2','P4','PPO1h','PPO2h']\n",
    "\n",
    "    chan_locs = np.zeros([len(ch_names),3])\n",
    "    for s,chan in enumerate(ch_names):\n",
    "        curr_pos = chan_pos.loc[chan].values\n",
    "        # Mirror to left hemisphere\n",
    "#         if curr_pos[0] > 0:\n",
    "#             curr_pos[0] = -curr_pos[0]\n",
    "        chan_locs[s,:] = curr_pos\n",
    "    \n",
    "    chan_info = pd.DataFrame(chan_locs,columns=['X','Y','Z'])\n",
    "    chan_info.to_csv(lp+'roi_proj/eeg_elec_mni_pos_bothH.txt', header=None, index=None, na_rep='nan')"
   ]
  },
  {
   "cell_type": "code",
   "execution_count": 5,
   "outputs": [
    {
     "data": {
      "text/plain": "[]"
     },
     "execution_count": 5,
     "metadata": {},
     "output_type": "execute_result"
    }
   ],
   "source": [
    "natsort.natsorted(glob.glob(lp+sbj_id+'_ME/*.gdf'))"
   ],
   "metadata": {
    "collapsed": false,
    "ExecuteTime": {
     "start_time": "2023-05-19T15:54:47.013567Z",
     "end_time": "2023-05-19T15:54:47.027891Z"
    }
   }
  },
  {
   "cell_type": "code",
   "execution_count": 6,
   "outputs": [
    {
     "data": {
      "text/plain": "'.../S15'"
     },
     "execution_count": 6,
     "metadata": {},
     "output_type": "execute_result"
    }
   ],
   "source": [
    "natsort.natsorted(glob.glob(lp+sbj_id+'_ME/*.gdf'))"
   ],
   "metadata": {
    "collapsed": false,
    "ExecuteTime": {
     "start_time": "2023-05-19T15:54:57.252038Z",
     "end_time": "2023-05-19T15:54:57.296064Z"
    }
   }
  },
  {
   "cell_type": "code",
   "execution_count": 7,
   "metadata": {},
   "outputs": [
    {
     "ename": "NameError",
     "evalue": "name 'epochs' is not defined",
     "output_type": "error",
     "traceback": [
      "\u001B[0;31m---------------------------------------------------------------------------\u001B[0m",
      "\u001B[0;31mNameError\u001B[0m                                 Traceback (most recent call last)",
      "\u001B[0;32m<ipython-input-7-802772c1b897>\u001B[0m in \u001B[0;36m<module>\u001B[0;34m\u001B[0m\n\u001B[1;32m     53\u001B[0m         \u001B[0mepochs_tmp\u001B[0m \u001B[0;34m=\u001B[0m \u001B[0mmne\u001B[0m\u001B[0;34m.\u001B[0m\u001B[0mEpochs\u001B[0m\u001B[0;34m(\u001B[0m\u001B[0mdat\u001B[0m\u001B[0;34m,\u001B[0m \u001B[0mevents\u001B[0m\u001B[0;34m,\u001B[0m \u001B[0mevent_id\u001B[0m\u001B[0;34m,\u001B[0m \u001B[0mtlims\u001B[0m\u001B[0;34m[\u001B[0m\u001B[0;36m0\u001B[0m\u001B[0;34m]\u001B[0m\u001B[0;34m,\u001B[0m \u001B[0mtlims\u001B[0m\u001B[0;34m[\u001B[0m\u001B[0;36m1\u001B[0m\u001B[0;34m]\u001B[0m\u001B[0;34m,\u001B[0m \u001B[0mbaseline\u001B[0m\u001B[0;34m=\u001B[0m\u001B[0;32mNone\u001B[0m\u001B[0;34m,\u001B[0m \u001B[0mpreload\u001B[0m\u001B[0;34m=\u001B[0m\u001B[0;32mTrue\u001B[0m\u001B[0;34m)\u001B[0m\u001B[0;34m\u001B[0m\u001B[0;34m\u001B[0m\u001B[0m\n\u001B[1;32m     54\u001B[0m         \u001B[0mepochs\u001B[0m \u001B[0;34m=\u001B[0m \u001B[0mmne\u001B[0m\u001B[0;34m.\u001B[0m\u001B[0mconcatenate_epochs\u001B[0m\u001B[0;34m(\u001B[0m\u001B[0;34m[\u001B[0m\u001B[0mepochs\u001B[0m\u001B[0;34m,\u001B[0m\u001B[0mepochs_tmp\u001B[0m\u001B[0;34m]\u001B[0m\u001B[0;34m)\u001B[0m\u001B[0;34m\u001B[0m\u001B[0;34m\u001B[0m\u001B[0m\n\u001B[0;32m---> 55\u001B[0;31m \u001B[0mprint\u001B[0m\u001B[0;34m(\u001B[0m\u001B[0mepochs\u001B[0m\u001B[0;34m.\u001B[0m\u001B[0m_data\u001B[0m\u001B[0;34m.\u001B[0m\u001B[0mshape\u001B[0m\u001B[0;34m[\u001B[0m\u001B[0;36m0\u001B[0m\u001B[0;34m]\u001B[0m\u001B[0;34m)\u001B[0m\u001B[0;34m\u001B[0m\u001B[0;34m\u001B[0m\u001B[0m\n\u001B[0m\u001B[1;32m     56\u001B[0m \u001B[0;34m\u001B[0m\u001B[0m\n\u001B[1;32m     57\u001B[0m \u001B[0;31m# Resample epochs to match ECoG inputs\u001B[0m\u001B[0;34m\u001B[0m\u001B[0;34m\u001B[0m\u001B[0;34m\u001B[0m\u001B[0m\n",
      "\u001B[0;31mNameError\u001B[0m: name 'epochs' is not defined"
     ]
    }
   ],
   "source": [
    "if not os.path.exists(sp):\n",
    "    os.mkdir(sp)\n",
    "\n",
    "fnames_all = natsort.natsorted(glob.glob(lp+sbj_id+'_ME/*.gdf'))\n",
    "\n",
    "for s,fname_curr in enumerate(fnames_all):\n",
    "    print(fname_curr)\n",
    "    # Load datafile\n",
    "    dat_load = mne.io.read_raw_edf(fname_curr,preload=True)\n",
    "    dat_hand_pos = dat_load.copy()\n",
    "    \n",
    "    ch_labels = dat_load.info['ch_names']\n",
    "    dat = dat_load.drop_channels(ch_labels[n_chans:])\n",
    "    assert len(dat.ch_names) == n_chans\n",
    "    \n",
    "    # Convert to millvolt for numerical stability of next operations\n",
    "    dat = mne_apply(lambda a: a * 1e6, dat)\n",
    "    \n",
    "    # Common average reference\n",
    "    dat.set_eeg_reference(ref_channels='average')\n",
    "    \n",
    "    # High-pass filter\n",
    "    dat.filter(filt_freqs[0], filt_freqs[1])\n",
    "    \n",
    "    # Find events (769, 770, 771, 772)\n",
    "    events,ev_dic_orig = mne.events_from_annotations(dat_load)\n",
    "    ev_dic_orig[str(int(event_dict['move']))]\n",
    "    \n",
    "    # Epoch data around events\n",
    "    event_id = {'rest': ev_dic_orig[str(int(event_dict['rest']))],\n",
    "                'move': ev_dic_orig[str(int(event_dict['move']))]}\n",
    "    \n",
    "    drop_chan_pos = [val for val in ch_labels if val not in ['handPosX', 'handPosY', 'handPosZ']]\n",
    "    dat_hand_pos.drop_channels(drop_chan_pos)\n",
    "    dat_hand_pos._data[0,:] = np.sqrt(np.square(dat_hand_pos._data).sum(axis=0))\n",
    "    dat_hand_pos.drop_channels(['handPosY', 'handPosZ'])\n",
    "    ep_hand_pos = mne.Epochs(dat_hand_pos, events, event_id, tlims_handpos[0],\n",
    "                             tlims_handpos[1], baseline=None, preload=True)\n",
    "#     plt.plot(ep_hand_pos['move']._data[0,0,:].squeeze())\n",
    "#     plt.show()\n",
    "    move_ev_inds = np.nonzero(events[:,2]==event_id['move'])[0]\n",
    "    print(events[move_ev_inds,0])\n",
    "    for i in range(ep_hand_pos['move']._data.shape[0]):\n",
    "        curr_trace = ep_hand_pos['move']._data[i,...].squeeze()\n",
    "        curr_trace = np.abs(curr_trace-curr_trace[0])\n",
    "        thresh=min(curr_trace.max()*.75,1)\n",
    "        events[move_ev_inds[i],0] += np.nonzero(curr_trace>thresh)[0][0]\n",
    "    print(events[move_ev_inds,0])\n",
    "    \n",
    "    if s==0:\n",
    "        epochs = mne.Epochs(dat, events, event_id, tlims[0], tlims[1], baseline=None, preload=True)\n",
    "    else:\n",
    "        epochs_tmp = mne.Epochs(dat, events, event_id, tlims[0], tlims[1], baseline=None, preload=True)\n",
    "        epochs = mne.concatenate_epochs([epochs,epochs_tmp])\n",
    "print(epochs._data.shape[0])\n",
    "\n",
    "# Resample epochs to match ECoG inputs\n",
    "epochs.resample(sfreq_new)\n",
    "    \n",
    "# Add labels to data\n",
    "event_id_labs = list(event_id.keys())\n",
    "days_start = (np.arange(n_splits)+1).tolist()\n",
    "recording_day,labels = [],[]\n",
    "for i,lab_curr in enumerate(event_id_labs):\n",
    "    ep_tmp = epochs[lab_curr]\n",
    "    n_tmp = int(ep_tmp._data.shape[0])//n_splits\n",
    "    days_curr = np.asarray(days_start * n_tmp)\n",
    "    np.random.shuffle(days_curr)\n",
    "    recording_day.extend(days_curr.tolist()) \n",
    "    if i==0:\n",
    "        ecog_dat_sbj = ep_tmp.get_data().copy()\n",
    "    else:\n",
    "        ecog_dat_sbj = np.concatenate((ecog_dat_sbj,ep_tmp.get_data().copy()),axis=0)\n",
    "    labels.extend([i+1]*ep_tmp.get_data().shape[0])\n",
    "\n",
    "# Add labels to ECoG data\n",
    "labels_arr = np.tile(np.expand_dims(np.asarray(labels),1),(1,ecog_dat_sbj.shape[2]))\n",
    "labels_arr = np.expand_dims(labels_arr,1)\n",
    "ecog_dat_sbj = np.concatenate((ecog_dat_sbj,labels_arr),axis=1)\n",
    "\n",
    "# Convert to xarray and save\n",
    "da_ecog = xr.DataArray(ecog_dat_sbj,\n",
    "                  [('events', recording_day),\n",
    "                   ('channels', np.arange(ecog_dat_sbj.shape[1])),\n",
    "                   ('time', epochs.times)])\n",
    "pdb.set_trace()\n",
    "da_ecog.to_netcdf(sp+sbj_id+'_ecog_data.nc')\n",
    "    \n",
    "print('Sampling rate: '+str(epochs.info['sfreq'])+' Hz')"
   ]
  },
  {
   "cell_type": "code",
   "execution_count": null,
   "metadata": {},
   "outputs": [],
   "source": []
  }
 ],
 "metadata": {
  "kernelspec": {
   "display_name": "Python 3",
   "language": "python",
   "name": "python3"
  },
  "language_info": {
   "codemirror_mode": {
    "name": "ipython",
    "version": 3
   },
   "file_extension": ".py",
   "mimetype": "text/x-python",
   "name": "python",
   "nbconvert_exporter": "python",
   "pygments_lexer": "ipython3",
   "version": "3.8.5"
  },
  "varInspector": {
   "cols": {
    "lenName": 16,
    "lenType": 16,
    "lenVar": 40
   },
   "kernels_config": {
    "python": {
     "delete_cmd_postfix": "",
     "delete_cmd_prefix": "del ",
     "library": "var_list.py",
     "varRefreshCmd": "print(var_dic_list())"
    },
    "r": {
     "delete_cmd_postfix": ") ",
     "delete_cmd_prefix": "rm(",
     "library": "var_list.r",
     "varRefreshCmd": "cat(var_dic_list()) "
    }
   },
   "types_to_exclude": [
    "module",
    "function",
    "builtin_function_or_method",
    "instance",
    "_Feature"
   ],
   "window_display": false
  }
 },
 "nbformat": 4,
 "nbformat_minor": 4
}
